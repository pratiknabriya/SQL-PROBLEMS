{
 "cells": [
  {
   "cell_type": "markdown",
   "metadata": {},
   "source": [
    "# SQL PROBLEMS"
   ]
  },
  {
   "cell_type": "markdown",
   "metadata": {},
   "source": [
    "### Problem 1 (Level 1)\n",
    "\n",
    "Students:<Id, Marks> \n",
    "\n",
    "Find the Second highest marks "
   ]
  },
  {
   "cell_type": "code",
   "execution_count": null,
   "metadata": {},
   "outputs": [],
   "source": [
    "SELECT distinct Marks \n",
    "FROM Students \n",
    "ORDER BY Marks DESC\n",
    "LIMIT 1 OFFSET 1;"
   ]
  },
  {
   "cell_type": "markdown",
   "metadata": {},
   "source": [
    "#### Alternative approach"
   ]
  },
  {
   "cell_type": "code",
   "execution_count": null,
   "metadata": {},
   "outputs": [],
   "source": [
    "SELECT max(Marks) \n",
    "FROM Students \n",
    "WHERE Marks < (SELECT max(Marks) FROM Students)"
   ]
  },
  {
   "cell_type": "markdown",
   "metadata": {},
   "source": [
    "### Problem 2 (Level 2)\n",
    "\n",
    "Points: <x, y> \n",
    "\n",
    "(Here x and y represents the x and y co-ordinates of the points) \n",
    "\n",
    "Find the shortest distance between any two points in the table. "
   ]
  },
  {
   "cell_type": "code",
   "execution_count": null,
   "metadata": {},
   "outputs": [],
   "source": [
    "SELECT MIN(SQRT(POW(p1.x - p2.x, 2) + POW(p1.y - p2.y, 2))) \n",
    "FROM Points p1, Points p2\n",
    "WHERE p1.x != p2.x OR p1.y != p2.y"
   ]
  },
  {
   "cell_type": "markdown",
   "metadata": {},
   "source": [
    "#### Alternative approach\n",
    "\n",
    "(This is a somewhat optimized as compared to the previous)"
   ]
  },
  {
   "cell_type": "code",
   "execution_count": null,
   "metadata": {},
   "outputs": [],
   "source": [
    "SELECT SQRT(MIN(POW(p1.x - p2.x, 2) + POW(p1.y - p2.y, 2))) \n",
    "FROM Points p1, Points p2\n",
    "WHERE p1.x != p2.x OR p1.y != p2.y"
   ]
  },
  {
   "cell_type": "markdown",
   "metadata": {},
   "source": [
    "When we use 'OR', if either of the statement on the left or right side evaluates True then the whole expression is True. \n",
    "Consider points -  (4, 3), (4, 1). Here the p1.x != p2.x is not True, but p1.y ! = p2.y is True, so the distance will get computed. \n",
    "Likewise, for the points (1, 5), (3, 5), the  p1.x != p2.x  is True, but  p1.y ! = p2.y is not True, so the distance will still get computed."
   ]
  },
  {
   "cell_type": "markdown",
   "metadata": {},
   "source": [
    "### Problem 3 (Level 2)\n",
    "\n",
    "Orders: <Cust, Item, date> \n",
    "\n",
    "Select Customers who purchased atleast 2 different items on 2 different dates."
   ]
  },
  {
   "cell_type": "code",
   "execution_count": null,
   "metadata": {},
   "outputs": [],
   "source": [
    "SELECT Cust \n",
    "FROM Orders \n",
    "GROUP BY Cust\n",
    "HAVING COUNT(DISTINCT Item) >= 2\n",
    "AND COUNT(DISTINCT date) >= 2"
   ]
  },
  {
   "cell_type": "markdown",
   "metadata": {},
   "source": [
    "### Problem 4 (Level 2)\n",
    "\n",
    "Scores: <player, country, goals>\n",
    "\n",
    "Find Players who scored more goals than every Spanish player and more than at least one German player."
   ]
  },
  {
   "cell_type": "code",
   "execution_count": null,
   "metadata": {},
   "outputs": [],
   "source": [
    "SELECT s.player\n",
    "FROM Scores s\n",
    "WHERE s.goals > ALL(SELECT s1.goals \n",
    "                    FROM Scores s1 \n",
    "                    WHERE s1.country = 'Spain')\n",
    "AND s.goals > ANY(SELECT s2.goals \n",
    "                  FROM Scores \n",
    "                  WHERE s2.country = 'Germany')"
   ]
  },
  {
   "attachments": {
    "image.png": {
     "image/png": "[encoded data removed]"
    }
   },
   "cell_type": "markdown",
   "metadata": {},
   "source": [
    "### Problem 5 (Level 3)\n",
    "\n",
    "![image.png](attachment:image.png)\n",
    "\n",
    "water_schemes: <scheme_no, district_name, capacity>\n",
    "\n",
    "Print name of districts whose total capacity >= average capacity of every district.\n"
   ]
  },
  {
   "cell_type": "code",
   "execution_count": null,
   "metadata": {},
   "outputs": [],
   "source": [
    "# subquery refactoring\n",
    "WITH(name, capacity) as\n",
    "SELECT district_name, SUM(capacity)\n",
    "FROM water_schemes\n",
    "GROUP BY district_name\n",
    "WITH total_avg(capacity) as\n",
    "SELECT AVG(capacity)\n",
    "FROM total\n",
    "SELECT name \n",
    "FROM total, total_avg\n",
    "WHERE total.capacity >= total_avg.capacity"
   ]
  },
  {
   "cell_type": "markdown",
   "metadata": {},
   "source": [
    "#### Alternative solution"
   ]
  },
  {
   "cell_type": "code",
   "execution_count": null,
   "metadata": {},
   "outputs": [],
   "source": [
    "SELECT district_name\n",
    "FROM water_schemes\n",
    "GROUP BY district_name \n",
    "HAVING SUM(capacity) >= ALL(SELECT AVG(capacity)\n",
    "                           FROM water_schemes \n",
    "                           GROUP BY district_name)"
   ]
  },
  {
   "cell_type": "markdown",
   "metadata": {},
   "source": [
    "#### SOME TIPS:\n",
    "\n",
    "* Break the complex problem into sub-problems.\n",
    "\n",
    "\n",
    "* Try to solve a problem from inner to outer approach i.e. First try to build the inner-query and then outer. "
   ]
  }
 ],
 "metadata": {
  "kernelspec": {
   "display_name": "Python 3",
   "language": "python",
   "name": "python3"
  },
  "language_info": {
   "codemirror_mode": {
    "name": "ipython",
    "version": 3
   },
   "file_extension": ".py",
   "mimetype": "text/x-python",
   "name": "python",
   "nbconvert_exporter": "python",
   "pygments_lexer": "ipython3",
   "version": "3.7.3"
  }
 },
 "nbformat": 4,
 "nbformat_minor": 2
}
